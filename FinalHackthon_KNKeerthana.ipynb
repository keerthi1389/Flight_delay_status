{
 "cells": [
  {
   "cell_type": "markdown",
   "id": "c139c831",
   "metadata": {},
   "source": [
    "# Business Understanding"
   ]
  },
  {
   "cell_type": "raw",
   "id": "75c40fa3",
   "metadata": {},
   "source": [
    "\n",
    "One of the Airline company has approached with a dataset of flight details and want to develop a model to help them predict the flight delays.\n",
    "\n",
    "Flight delay is a huge problem in Airline industry. It is quite complex and difficult to identify those flight delays.\n",
    "\n",
    "The data that I have is from Airline. I will be creating a predictive model that predicts if the fight delayed or not. The answer between 1/2, is a Binary Classification task.A comparison study has been performed to understand which ML algorithm suits best to the dataset"
   ]
  },
  {
   "cell_type": "code",
   "execution_count": 1,
   "id": "06e9b802",
   "metadata": {},
   "outputs": [],
   "source": [
    "#Importing libraries \n",
    "import pandas as pd\n",
    "import numpy as np\n",
    "import warnings\n",
    "warnings.filterwarnings(\"ignore\")\n",
    "import re\n",
    "pd.pandas.set_option('display.max_columns', None)\n",
    "pd.pandas.set_option('display.max_rows', None)"
   ]
  },
  {
   "cell_type": "code",
   "execution_count": 2,
   "id": "eb6bc348",
   "metadata": {},
   "outputs": [],
   "source": [
    "import matplotlib.pyplot as plt\n",
    "%matplotlib inline\n",
    "import seaborn as sns"
   ]
  },
  {
   "cell_type": "markdown",
   "id": "1cc440b9",
   "metadata": {},
   "source": [
    "# Data PreProcessing on Train"
   ]
  },
  {
   "cell_type": "code",
   "execution_count": 3,
   "id": "7c34aac5",
   "metadata": {},
   "outputs": [],
   "source": [
    "# Reading train data which we have already preprocessed\n",
    "train = pd.read_csv('trainresult.csv')"
   ]
  },
  {
   "cell_type": "code",
   "execution_count": 4,
   "id": "6c9d7594",
   "metadata": {},
   "outputs": [
    {
     "data": {
      "text/html": [
       "<div>\n",
       "<style scoped>\n",
       "    .dataframe tbody tr th:only-of-type {\n",
       "        vertical-align: middle;\n",
       "    }\n",
       "\n",
       "    .dataframe tbody tr th {\n",
       "        vertical-align: top;\n",
       "    }\n",
       "\n",
       "    .dataframe thead th {\n",
       "        text-align: right;\n",
       "    }\n",
       "</style>\n",
       "<table border=\"1\" class=\"dataframe\">\n",
       "  <thead>\n",
       "    <tr style=\"text-align: right;\">\n",
       "      <th></th>\n",
       "      <th>Unnamed: 0</th>\n",
       "      <th>FlightNumber</th>\n",
       "      <th>Month</th>\n",
       "      <th>DayOfWeek</th>\n",
       "      <th>ScheduledTravelTime</th>\n",
       "      <th>Origin</th>\n",
       "      <th>Destination</th>\n",
       "      <th>Distance</th>\n",
       "      <th>Flight_Delay_Status</th>\n",
       "      <th>Origin_ws_id</th>\n",
       "      <th>Destination_ws_id</th>\n",
       "      <th>Origin_GroH</th>\n",
       "      <th>Origin_StaH</th>\n",
       "      <th>Origin_BaroH</th>\n",
       "      <th>Des_GroH</th>\n",
       "      <th>Des_StaH</th>\n",
       "      <th>Des_BaroH</th>\n",
       "      <th>Dep_avg</th>\n",
       "      <th>Origin_Hurpre</th>\n",
       "      <th>Arr_avg</th>\n",
       "      <th>Des_Hurpre</th>\n",
       "      <th>Ori_DBT</th>\n",
       "      <th>Ori_DewPT</th>\n",
       "      <th>Ori_RelHumiP</th>\n",
       "      <th>Ori_WindSpeed</th>\n",
       "      <th>Ori_WindDir</th>\n",
       "      <th>Ori_WindGu</th>\n",
       "      <th>Ori_StaPre</th>\n",
       "      <th>Ori_Visib</th>\n",
       "      <th>Des_DBT</th>\n",
       "      <th>Des_DewPT</th>\n",
       "      <th>Des_RelHumP</th>\n",
       "      <th>Des_WindS</th>\n",
       "      <th>Des_WindDir</th>\n",
       "      <th>Des_WindGust</th>\n",
       "      <th>Des_Stapre</th>\n",
       "      <th>Des_Visib</th>\n",
       "    </tr>\n",
       "  </thead>\n",
       "  <tbody>\n",
       "    <tr>\n",
       "      <th>0</th>\n",
       "      <td>0</td>\n",
       "      <td>BOS_CLE_29089</td>\n",
       "      <td>9</td>\n",
       "      <td>1</td>\n",
       "      <td>114</td>\n",
       "      <td>BOS</td>\n",
       "      <td>CLE</td>\n",
       "      <td>563</td>\n",
       "      <td>2</td>\n",
       "      <td>14739</td>\n",
       "      <td>14820</td>\n",
       "      <td>19</td>\n",
       "      <td>30</td>\n",
       "      <td>180</td>\n",
       "      <td>802</td>\n",
       "      <td>805</td>\n",
       "      <td>805</td>\n",
       "      <td>2004-09-20 15:00:00</td>\n",
       "      <td>0.0</td>\n",
       "      <td>2004-09-20 16:00:00</td>\n",
       "      <td>0.000000</td>\n",
       "      <td>69.0</td>\n",
       "      <td>41.0</td>\n",
       "      <td>36.0</td>\n",
       "      <td>8.0</td>\n",
       "      <td>280.0</td>\n",
       "      <td>0.0</td>\n",
       "      <td>30.20</td>\n",
       "      <td>10.0</td>\n",
       "      <td>70.0</td>\n",
       "      <td>53.0</td>\n",
       "      <td>55.0</td>\n",
       "      <td>7.0</td>\n",
       "      <td>10.0</td>\n",
       "      <td>0.0</td>\n",
       "      <td>29.46</td>\n",
       "      <td>10.0</td>\n",
       "    </tr>\n",
       "    <tr>\n",
       "      <th>1</th>\n",
       "      <td>1</td>\n",
       "      <td>BOS_CLE_42482</td>\n",
       "      <td>9</td>\n",
       "      <td>7</td>\n",
       "      <td>114</td>\n",
       "      <td>BOS</td>\n",
       "      <td>CLE</td>\n",
       "      <td>563</td>\n",
       "      <td>2</td>\n",
       "      <td>14739</td>\n",
       "      <td>14820</td>\n",
       "      <td>19</td>\n",
       "      <td>30</td>\n",
       "      <td>180</td>\n",
       "      <td>802</td>\n",
       "      <td>805</td>\n",
       "      <td>805</td>\n",
       "      <td>2004-09-12 15:00:00</td>\n",
       "      <td>0.0</td>\n",
       "      <td>2004-09-12 16:00:00</td>\n",
       "      <td>0.000000</td>\n",
       "      <td>70.0</td>\n",
       "      <td>57.0</td>\n",
       "      <td>64.0</td>\n",
       "      <td>10.0</td>\n",
       "      <td>130.0</td>\n",
       "      <td>0.0</td>\n",
       "      <td>30.09</td>\n",
       "      <td>10.0</td>\n",
       "      <td>78.0</td>\n",
       "      <td>58.0</td>\n",
       "      <td>50.0</td>\n",
       "      <td>5.0</td>\n",
       "      <td>360.0</td>\n",
       "      <td>0.0</td>\n",
       "      <td>29.30</td>\n",
       "      <td>10.0</td>\n",
       "    </tr>\n",
       "    <tr>\n",
       "      <th>2</th>\n",
       "      <td>2</td>\n",
       "      <td>BOS_CLE_42533</td>\n",
       "      <td>9</td>\n",
       "      <td>3</td>\n",
       "      <td>116</td>\n",
       "      <td>BOS</td>\n",
       "      <td>CLE</td>\n",
       "      <td>563</td>\n",
       "      <td>1</td>\n",
       "      <td>14739</td>\n",
       "      <td>14820</td>\n",
       "      <td>19</td>\n",
       "      <td>30</td>\n",
       "      <td>180</td>\n",
       "      <td>802</td>\n",
       "      <td>805</td>\n",
       "      <td>805</td>\n",
       "      <td>2004-09-08 19:00:00</td>\n",
       "      <td>0.0</td>\n",
       "      <td>2004-09-08 20:00:00</td>\n",
       "      <td>0.080000</td>\n",
       "      <td>67.0</td>\n",
       "      <td>64.0</td>\n",
       "      <td>91.0</td>\n",
       "      <td>9.0</td>\n",
       "      <td>50.0</td>\n",
       "      <td>0.0</td>\n",
       "      <td>30.16</td>\n",
       "      <td>10.0</td>\n",
       "      <td>66.0</td>\n",
       "      <td>63.0</td>\n",
       "      <td>90.0</td>\n",
       "      <td>20.0</td>\n",
       "      <td>50.0</td>\n",
       "      <td>25.0</td>\n",
       "      <td>29.02</td>\n",
       "      <td>6.0</td>\n",
       "    </tr>\n",
       "    <tr>\n",
       "      <th>3</th>\n",
       "      <td>3</td>\n",
       "      <td>BOS_CLE_27999</td>\n",
       "      <td>11</td>\n",
       "      <td>2</td>\n",
       "      <td>118</td>\n",
       "      <td>BOS</td>\n",
       "      <td>CLE</td>\n",
       "      <td>563</td>\n",
       "      <td>2</td>\n",
       "      <td>14739</td>\n",
       "      <td>14820</td>\n",
       "      <td>19</td>\n",
       "      <td>30</td>\n",
       "      <td>180</td>\n",
       "      <td>802</td>\n",
       "      <td>805</td>\n",
       "      <td>805</td>\n",
       "      <td>2004-11-23 19:00:00</td>\n",
       "      <td>0.0</td>\n",
       "      <td>2004-11-23 20:00:00</td>\n",
       "      <td>0.019605</td>\n",
       "      <td>44.0</td>\n",
       "      <td>39.0</td>\n",
       "      <td>83.0</td>\n",
       "      <td>8.0</td>\n",
       "      <td>190.0</td>\n",
       "      <td>0.0</td>\n",
       "      <td>30.13</td>\n",
       "      <td>10.0</td>\n",
       "      <td>51.0</td>\n",
       "      <td>47.0</td>\n",
       "      <td>86.0</td>\n",
       "      <td>5.0</td>\n",
       "      <td>10.0</td>\n",
       "      <td>0.0</td>\n",
       "      <td>29.10</td>\n",
       "      <td>2.5</td>\n",
       "    </tr>\n",
       "    <tr>\n",
       "      <th>4</th>\n",
       "      <td>4</td>\n",
       "      <td>MSP_CLE_30461</td>\n",
       "      <td>7</td>\n",
       "      <td>4</td>\n",
       "      <td>118</td>\n",
       "      <td>MSP</td>\n",
       "      <td>CLE</td>\n",
       "      <td>622</td>\n",
       "      <td>2</td>\n",
       "      <td>14922</td>\n",
       "      <td>14820</td>\n",
       "      <td>871</td>\n",
       "      <td>838</td>\n",
       "      <td>874</td>\n",
       "      <td>802</td>\n",
       "      <td>805</td>\n",
       "      <td>805</td>\n",
       "      <td>2004-07-01 21:00:00</td>\n",
       "      <td>0.0</td>\n",
       "      <td>2004-07-01 23:00:00</td>\n",
       "      <td>0.000000</td>\n",
       "      <td>76.0</td>\n",
       "      <td>62.0</td>\n",
       "      <td>62.0</td>\n",
       "      <td>8.0</td>\n",
       "      <td>80.0</td>\n",
       "      <td>0.0</td>\n",
       "      <td>29.13</td>\n",
       "      <td>10.0</td>\n",
       "      <td>69.0</td>\n",
       "      <td>58.0</td>\n",
       "      <td>68.0</td>\n",
       "      <td>4.0</td>\n",
       "      <td>160.0</td>\n",
       "      <td>0.0</td>\n",
       "      <td>29.23</td>\n",
       "      <td>10.0</td>\n",
       "    </tr>\n",
       "  </tbody>\n",
       "</table>\n",
       "</div>"
      ],
      "text/plain": [
       "   Unnamed: 0   FlightNumber  Month  DayOfWeek  ScheduledTravelTime Origin  \\\n",
       "0           0  BOS_CLE_29089      9          1                  114    BOS   \n",
       "1           1  BOS_CLE_42482      9          7                  114    BOS   \n",
       "2           2  BOS_CLE_42533      9          3                  116    BOS   \n",
       "3           3  BOS_CLE_27999     11          2                  118    BOS   \n",
       "4           4  MSP_CLE_30461      7          4                  118    MSP   \n",
       "\n",
       "  Destination  Distance  Flight_Delay_Status  Origin_ws_id  Destination_ws_id  \\\n",
       "0         CLE       563                    2         14739              14820   \n",
       "1         CLE       563                    2         14739              14820   \n",
       "2         CLE       563                    1         14739              14820   \n",
       "3         CLE       563                    2         14739              14820   \n",
       "4         CLE       622                    2         14922              14820   \n",
       "\n",
       "   Origin_GroH  Origin_StaH  Origin_BaroH  Des_GroH  Des_StaH  Des_BaroH  \\\n",
       "0           19           30           180       802       805        805   \n",
       "1           19           30           180       802       805        805   \n",
       "2           19           30           180       802       805        805   \n",
       "3           19           30           180       802       805        805   \n",
       "4          871          838           874       802       805        805   \n",
       "\n",
       "               Dep_avg  Origin_Hurpre              Arr_avg  Des_Hurpre  \\\n",
       "0  2004-09-20 15:00:00            0.0  2004-09-20 16:00:00    0.000000   \n",
       "1  2004-09-12 15:00:00            0.0  2004-09-12 16:00:00    0.000000   \n",
       "2  2004-09-08 19:00:00            0.0  2004-09-08 20:00:00    0.080000   \n",
       "3  2004-11-23 19:00:00            0.0  2004-11-23 20:00:00    0.019605   \n",
       "4  2004-07-01 21:00:00            0.0  2004-07-01 23:00:00    0.000000   \n",
       "\n",
       "   Ori_DBT  Ori_DewPT  Ori_RelHumiP  Ori_WindSpeed  Ori_WindDir  Ori_WindGu  \\\n",
       "0     69.0       41.0          36.0            8.0        280.0         0.0   \n",
       "1     70.0       57.0          64.0           10.0        130.0         0.0   \n",
       "2     67.0       64.0          91.0            9.0         50.0         0.0   \n",
       "3     44.0       39.0          83.0            8.0        190.0         0.0   \n",
       "4     76.0       62.0          62.0            8.0         80.0         0.0   \n",
       "\n",
       "   Ori_StaPre  Ori_Visib  Des_DBT  Des_DewPT  Des_RelHumP  Des_WindS  \\\n",
       "0       30.20       10.0     70.0       53.0         55.0        7.0   \n",
       "1       30.09       10.0     78.0       58.0         50.0        5.0   \n",
       "2       30.16       10.0     66.0       63.0         90.0       20.0   \n",
       "3       30.13       10.0     51.0       47.0         86.0        5.0   \n",
       "4       29.13       10.0     69.0       58.0         68.0        4.0   \n",
       "\n",
       "   Des_WindDir  Des_WindGust  Des_Stapre  Des_Visib  \n",
       "0         10.0           0.0       29.46       10.0  \n",
       "1        360.0           0.0       29.30       10.0  \n",
       "2         50.0          25.0       29.02        6.0  \n",
       "3         10.0           0.0       29.10        2.5  \n",
       "4        160.0           0.0       29.23       10.0  "
      ]
     },
     "execution_count": 4,
     "metadata": {},
     "output_type": "execute_result"
    }
   ],
   "source": [
    "train.head()"
   ]
  },
  {
   "cell_type": "code",
   "execution_count": 5,
   "id": "bd42d8a5",
   "metadata": {},
   "outputs": [
    {
     "data": {
      "text/plain": [
       "Index(['Unnamed: 0', 'FlightNumber', 'Month', 'DayOfWeek',\n",
       "       'ScheduledTravelTime', 'Origin', 'Destination', 'Distance',\n",
       "       'Flight_Delay_Status', 'Origin_ws_id', 'Destination_ws_id',\n",
       "       'Origin_GroH', 'Origin_StaH', 'Origin_BaroH', 'Des_GroH', 'Des_StaH',\n",
       "       'Des_BaroH', 'Dep_avg', 'Origin_Hurpre', 'Arr_avg', 'Des_Hurpre',\n",
       "       'Ori_DBT', 'Ori_DewPT', 'Ori_RelHumiP', 'Ori_WindSpeed', 'Ori_WindDir',\n",
       "       'Ori_WindGu', 'Ori_StaPre', 'Ori_Visib', 'Des_DBT', 'Des_DewPT',\n",
       "       'Des_RelHumP', 'Des_WindS', 'Des_WindDir', 'Des_WindGust', 'Des_Stapre',\n",
       "       'Des_Visib'],\n",
       "      dtype='object')"
      ]
     },
     "execution_count": 5,
     "metadata": {},
     "output_type": "execute_result"
    }
   ],
   "source": [
    "train.columns"
   ]
  },
  {
   "cell_type": "code",
   "execution_count": 6,
   "id": "4c9f873f",
   "metadata": {},
   "outputs": [],
   "source": [
    "train=train.drop(['Unnamed: 0','DayOfWeek','Arr_avg','Dep_avg','Month'],axis=1)"
   ]
  },
  {
   "cell_type": "code",
   "execution_count": 7,
   "id": "a591fb2b",
   "metadata": {},
   "outputs": [
    {
     "data": {
      "text/plain": [
       "(7861, 32)"
      ]
     },
     "execution_count": 7,
     "metadata": {},
     "output_type": "execute_result"
    }
   ],
   "source": [
    "train.shape"
   ]
  },
  {
   "cell_type": "code",
   "execution_count": 8,
   "id": "bdd0fe5b",
   "metadata": {},
   "outputs": [
    {
     "name": "stdout",
     "output_type": "stream",
     "text": [
      "<class 'pandas.core.frame.DataFrame'>\n",
      "RangeIndex: 7861 entries, 0 to 7860\n",
      "Data columns (total 32 columns):\n",
      " #   Column               Non-Null Count  Dtype  \n",
      "---  ------               --------------  -----  \n",
      " 0   FlightNumber         7861 non-null   object \n",
      " 1   ScheduledTravelTime  7861 non-null   int64  \n",
      " 2   Origin               7861 non-null   object \n",
      " 3   Destination          7861 non-null   object \n",
      " 4   Distance             7861 non-null   int64  \n",
      " 5   Flight_Delay_Status  7861 non-null   int64  \n",
      " 6   Origin_ws_id         7861 non-null   int64  \n",
      " 7   Destination_ws_id    7861 non-null   int64  \n",
      " 8   Origin_GroH          7861 non-null   int64  \n",
      " 9   Origin_StaH          7861 non-null   int64  \n",
      " 10  Origin_BaroH         7861 non-null   int64  \n",
      " 11  Des_GroH             7861 non-null   int64  \n",
      " 12  Des_StaH             7861 non-null   int64  \n",
      " 13  Des_BaroH            7861 non-null   int64  \n",
      " 14  Origin_Hurpre        7861 non-null   float64\n",
      " 15  Des_Hurpre           7861 non-null   float64\n",
      " 16  Ori_DBT              7861 non-null   float64\n",
      " 17  Ori_DewPT            7861 non-null   float64\n",
      " 18  Ori_RelHumiP         7861 non-null   float64\n",
      " 19  Ori_WindSpeed        7861 non-null   float64\n",
      " 20  Ori_WindDir          7861 non-null   float64\n",
      " 21  Ori_WindGu           7861 non-null   float64\n",
      " 22  Ori_StaPre           7861 non-null   float64\n",
      " 23  Ori_Visib            7861 non-null   float64\n",
      " 24  Des_DBT              7861 non-null   float64\n",
      " 25  Des_DewPT            7861 non-null   float64\n",
      " 26  Des_RelHumP          7861 non-null   float64\n",
      " 27  Des_WindS            7861 non-null   float64\n",
      " 28  Des_WindDir          7861 non-null   float64\n",
      " 29  Des_WindGust         7861 non-null   float64\n",
      " 30  Des_Stapre           7861 non-null   float64\n",
      " 31  Des_Visib            7861 non-null   float64\n",
      "dtypes: float64(18), int64(11), object(3)\n",
      "memory usage: 1.9+ MB\n"
     ]
    }
   ],
   "source": [
    "train.info()"
   ]
  },
  {
   "cell_type": "code",
   "execution_count": 9,
   "id": "e10412e7",
   "metadata": {},
   "outputs": [],
   "source": [
    "# type conversion to category\n",
    "train['FlightNumber'] = train['FlightNumber'].astype('category')\n",
    "train['Origin'] = train['Origin'].astype('category')\n",
    "train['Destination'] = train['Destination'].astype('category')\n",
    "train['Des_Visib'] = train['Des_Visib'].astype('category')\n",
    "train['Ori_WindSpeed'] = train['Ori_WindSpeed'].astype('category')\n",
    "train['Ori_Visib'] = train['Ori_Visib'].astype('category')\n",
    "train['Des_WindS'] = train['Des_WindS'].astype('category')"
   ]
  },
  {
   "cell_type": "code",
   "execution_count": 10,
   "id": "332c7dca",
   "metadata": {},
   "outputs": [],
   "source": [
    "train['Des_Stapre'] = train['Des_Stapre'].astype('int64')\n",
    "train['Des_WindGust'] = train['Des_WindGust'].astype('int64')\n",
    "train['Des_WindDir'] = train['Des_WindDir'].astype('int64')\n",
    "train['Des_RelHumP'] = train['Des_RelHumP'].astype('int64')\n",
    "train['Des_DBT'] = train['Des_DBT'].astype('int64')\n",
    "train['Ori_StaPre'] = train['Ori_StaPre'].astype('int64')\n",
    "train['Ori_WindGu'] = train['Ori_WindGu'].astype('int64')\n",
    "train['Ori_WindDir'] = train['Ori_WindDir'].astype('int64')\n",
    "train['Ori_RelHumiP'] = train['Ori_RelHumiP'].astype('int64')\n",
    "train['Ori_DewPT'] = train['Ori_DewPT'].astype('int64')\n",
    "train['Ori_DBT'] = train['Ori_DBT'].astype('int64')\n",
    "train['Des_Hurpre'] = train['Des_Hurpre'].astype('int64')\n",
    "train['Origin_Hurpre'] = train['Origin_Hurpre'].astype('int64')\n",
    "train['Des_DewPT'] = train['Des_DewPT'].astype('int64')"
   ]
  },
  {
   "cell_type": "code",
   "execution_count": 11,
   "id": "90cd3a7a",
   "metadata": {},
   "outputs": [],
   "source": [
    "from sklearn.preprocessing import LabelEncoder\n",
    "le = LabelEncoder()\n",
    "train['FlightNumber']= le.fit_transform(train['FlightNumber'])  "
   ]
  },
  {
   "cell_type": "code",
   "execution_count": 12,
   "id": "31eac841",
   "metadata": {},
   "outputs": [],
   "source": [
    "from sklearn.preprocessing import LabelEncoder\n",
    "le = LabelEncoder()\n",
    "train['Origin']= le.fit_transform(train['Origin'])  "
   ]
  },
  {
   "cell_type": "code",
   "execution_count": 13,
   "id": "fb58fd24",
   "metadata": {},
   "outputs": [],
   "source": [
    "from sklearn.preprocessing import LabelEncoder\n",
    "le = LabelEncoder()\n",
    "train['Destination']= le.fit_transform(train['Destination'])  "
   ]
  },
  {
   "cell_type": "code",
   "execution_count": 14,
   "id": "7df046df",
   "metadata": {},
   "outputs": [
    {
     "data": {
      "text/plain": [
       "(7861, 31)"
      ]
     },
     "execution_count": 14,
     "metadata": {},
     "output_type": "execute_result"
    }
   ],
   "source": [
    "x_train=train.drop('Flight_Delay_Status',axis=1)   # Dropping Target Column\n",
    "y_train=train['Flight_Delay_Status']        #Target Column \n",
    "x_train.shape"
   ]
  },
  {
   "cell_type": "markdown",
   "id": "f31fd364",
   "metadata": {},
   "source": [
    "# Feature selection Train"
   ]
  },
  {
   "cell_type": "code",
   "execution_count": 15,
   "id": "f68e69c2",
   "metadata": {},
   "outputs": [],
   "source": [
    "# creating Function for checking correlated variables\n",
    "\n",
    "def correlation(x_train,threshold):\n",
    "  col_corr=set()\n",
    "  corr_matrix=x_train.corr()\n",
    "  for i in range(len(corr_matrix.columns)):\n",
    "    for j in range(i):\n",
    "      if abs(corr_matrix.iloc[i,j] )>threshold:\n",
    "        colname = corr_matrix.columns[i]\n",
    "        col_corr.add(colname) \n",
    "  return col_corr "
   ]
  },
  {
   "cell_type": "code",
   "execution_count": 16,
   "id": "a5b0d968",
   "metadata": {},
   "outputs": [
    {
     "name": "stdout",
     "output_type": "stream",
     "text": [
      "correlated features: 8\n"
     ]
    }
   ],
   "source": [
    "# Fixing thrshold value percentage as 0.9:\n",
    "\n",
    "corr_features=correlation(x_train,0.9)\n",
    "len(set(corr_features))\n",
    "print('correlated features:',len(set(corr_features)))"
   ]
  },
  {
   "cell_type": "code",
   "execution_count": 17,
   "id": "94ebb0db",
   "metadata": {},
   "outputs": [
    {
     "name": "stdout",
     "output_type": "stream",
     "text": [
      "correlated features are: {'Origin', 'Origin_StaH', 'Ori_StaPre', 'Des_StaH', 'Des_Stapre', 'Origin_BaroH', 'Des_BaroH', 'Distance'}\n"
     ]
    }
   ],
   "source": [
    "print('correlated features are:' , corr_features)   # finding Correlated features"
   ]
  },
  {
   "cell_type": "code",
   "execution_count": 18,
   "id": "4dd59467",
   "metadata": {},
   "outputs": [],
   "source": [
    "x_train_noncorr=x_train.drop(corr_features,axis=1)  # Dropping Correlated features in train data\n"
   ]
  },
  {
   "cell_type": "code",
   "execution_count": 19,
   "id": "c611957c",
   "metadata": {},
   "outputs": [
    {
     "data": {
      "text/plain": [
       "Index(['FlightNumber', 'ScheduledTravelTime', 'Destination', 'Origin_ws_id',\n",
       "       'Destination_ws_id', 'Origin_GroH', 'Des_GroH', 'Origin_Hurpre',\n",
       "       'Des_Hurpre', 'Ori_DBT', 'Ori_DewPT', 'Ori_RelHumiP', 'Ori_WindSpeed',\n",
       "       'Ori_WindDir', 'Ori_WindGu', 'Ori_Visib', 'Des_DBT', 'Des_DewPT',\n",
       "       'Des_RelHumP', 'Des_WindS', 'Des_WindDir', 'Des_WindGust', 'Des_Visib'],\n",
       "      dtype='object')"
      ]
     },
     "execution_count": 19,
     "metadata": {},
     "output_type": "execute_result"
    }
   ],
   "source": [
    "x_train_noncorr.columns"
   ]
  },
  {
   "cell_type": "code",
   "execution_count": 20,
   "id": "8eb35653",
   "metadata": {},
   "outputs": [],
   "source": [
    "# Feature Scaling---Min-Max\n",
    "\n",
    "from sklearn.preprocessing import MinMaxScaler\n",
    "min_max=MinMaxScaler()\n",
    "x_train=pd.DataFrame(min_max.fit_transform(x_train_noncorr))"
   ]
  },
  {
   "cell_type": "code",
   "execution_count": null,
   "id": "2fc98f30",
   "metadata": {},
   "outputs": [],
   "source": []
  },
  {
   "cell_type": "markdown",
   "id": "6814f179",
   "metadata": {},
   "source": [
    "# Data PreProcessing on Test"
   ]
  },
  {
   "cell_type": "code",
   "execution_count": 21,
   "id": "8702c256",
   "metadata": {},
   "outputs": [],
   "source": [
    "# Reading test data\n",
    "test = pd.read_csv('testresult.csv')"
   ]
  },
  {
   "cell_type": "code",
   "execution_count": 22,
   "id": "6f673e1f",
   "metadata": {},
   "outputs": [
    {
     "data": {
      "text/html": [
       "<div>\n",
       "<style scoped>\n",
       "    .dataframe tbody tr th:only-of-type {\n",
       "        vertical-align: middle;\n",
       "    }\n",
       "\n",
       "    .dataframe tbody tr th {\n",
       "        vertical-align: top;\n",
       "    }\n",
       "\n",
       "    .dataframe thead th {\n",
       "        text-align: right;\n",
       "    }\n",
       "</style>\n",
       "<table border=\"1\" class=\"dataframe\">\n",
       "  <thead>\n",
       "    <tr style=\"text-align: right;\">\n",
       "      <th></th>\n",
       "      <th>Unnamed: 0</th>\n",
       "      <th>FlightNumber</th>\n",
       "      <th>UTC_Deptime</th>\n",
       "      <th>DayOfWeek</th>\n",
       "      <th>UTC_Arrtime</th>\n",
       "      <th>ScheduledTravelTime</th>\n",
       "      <th>Origin</th>\n",
       "      <th>Destination</th>\n",
       "      <th>Distance</th>\n",
       "      <th>Origin_ws_id</th>\n",
       "      <th>Destination_ws_id</th>\n",
       "      <th>Origin_GroH</th>\n",
       "      <th>Origin_StaH</th>\n",
       "      <th>Origin_BaroH</th>\n",
       "      <th>Des_GroH</th>\n",
       "      <th>Des_StaH</th>\n",
       "      <th>Des_BaroH</th>\n",
       "      <th>Dep_avg</th>\n",
       "      <th>Origin_Hurpre</th>\n",
       "      <th>Arr_avg</th>\n",
       "      <th>Des_Hurpre</th>\n",
       "      <th>Ori_SkyCon</th>\n",
       "      <th>Ori_DBT</th>\n",
       "      <th>Ori_DewPT</th>\n",
       "      <th>Ori_RelHumiP</th>\n",
       "      <th>Ori_WindSpeed</th>\n",
       "      <th>Ori_WindDir</th>\n",
       "      <th>Ori_WindGu</th>\n",
       "      <th>Ori_StaPre</th>\n",
       "      <th>Ori_Visib</th>\n",
       "      <th>Des_SkyCon</th>\n",
       "      <th>Des_DBT</th>\n",
       "      <th>Des_DewPT</th>\n",
       "      <th>Des_RelHumP</th>\n",
       "      <th>Des_WindS</th>\n",
       "      <th>Des_WindDir</th>\n",
       "      <th>Des_WindGust</th>\n",
       "      <th>Des_Stapre</th>\n",
       "      <th>Des_Visib</th>\n",
       "      <th>y</th>\n",
       "    </tr>\n",
       "  </thead>\n",
       "  <tbody>\n",
       "    <tr>\n",
       "      <th>0</th>\n",
       "      <td>0</td>\n",
       "      <td>DEN_XNA_62349</td>\n",
       "      <td>2005-09-12 22:16:00</td>\n",
       "      <td>1</td>\n",
       "      <td>2005-09-12 23:56:00</td>\n",
       "      <td>100</td>\n",
       "      <td>DEN</td>\n",
       "      <td>XNA</td>\n",
       "      <td>616</td>\n",
       "      <td>3017</td>\n",
       "      <td>3017</td>\n",
       "      <td>5379</td>\n",
       "      <td>5431</td>\n",
       "      <td>5382</td>\n",
       "      <td>5379</td>\n",
       "      <td>5431</td>\n",
       "      <td>5382</td>\n",
       "      <td>2005-09-12 22:00:00</td>\n",
       "      <td>0.0</td>\n",
       "      <td>2005-09-12 23:00:00</td>\n",
       "      <td>0.0</td>\n",
       "      <td>FEW100 SCT140</td>\n",
       "      <td>55.0</td>\n",
       "      <td>34.0</td>\n",
       "      <td>45.0</td>\n",
       "      <td>9.0</td>\n",
       "      <td>120</td>\n",
       "      <td>0.0</td>\n",
       "      <td>24.63</td>\n",
       "      <td>10.0</td>\n",
       "      <td>SCT110</td>\n",
       "      <td>54.0</td>\n",
       "      <td>32.0</td>\n",
       "      <td>43.0</td>\n",
       "      <td>5.0</td>\n",
       "      <td>120</td>\n",
       "      <td>0.0</td>\n",
       "      <td>24.64</td>\n",
       "      <td>10.0</td>\n",
       "      <td>2005-09-12 22:00:00</td>\n",
       "    </tr>\n",
       "    <tr>\n",
       "      <th>1</th>\n",
       "      <td>1</td>\n",
       "      <td>DEN_SAT_82515</td>\n",
       "      <td>2005-09-06 15:55:00</td>\n",
       "      <td>2</td>\n",
       "      <td>2005-09-06 17:57:00</td>\n",
       "      <td>122</td>\n",
       "      <td>DEN</td>\n",
       "      <td>SAT</td>\n",
       "      <td>794</td>\n",
       "      <td>3017</td>\n",
       "      <td>3017</td>\n",
       "      <td>5379</td>\n",
       "      <td>5431</td>\n",
       "      <td>5382</td>\n",
       "      <td>5379</td>\n",
       "      <td>5431</td>\n",
       "      <td>5382</td>\n",
       "      <td>2005-09-06 15:00:00</td>\n",
       "      <td>0.0</td>\n",
       "      <td>2005-09-06 17:00:00</td>\n",
       "      <td>0.0</td>\n",
       "      <td>FEW070 SCT120 SCT150</td>\n",
       "      <td>77.0</td>\n",
       "      <td>48.0</td>\n",
       "      <td>36.0</td>\n",
       "      <td>4.0</td>\n",
       "      <td>0</td>\n",
       "      <td>0.0</td>\n",
       "      <td>24.84</td>\n",
       "      <td>10.0</td>\n",
       "      <td>FEW070 SCT120 BKN150</td>\n",
       "      <td>73.0</td>\n",
       "      <td>48.0</td>\n",
       "      <td>41.0</td>\n",
       "      <td>10.0</td>\n",
       "      <td>140</td>\n",
       "      <td>0.0</td>\n",
       "      <td>24.86</td>\n",
       "      <td>10.0</td>\n",
       "      <td>2005-09-06 16:00:00</td>\n",
       "    </tr>\n",
       "    <tr>\n",
       "      <th>2</th>\n",
       "      <td>2</td>\n",
       "      <td>DEN_ICT_94174</td>\n",
       "      <td>2005-07-23 22:56:00</td>\n",
       "      <td>6</td>\n",
       "      <td>2005-07-24 00:17:00</td>\n",
       "      <td>81</td>\n",
       "      <td>DEN</td>\n",
       "      <td>ICT</td>\n",
       "      <td>419</td>\n",
       "      <td>3017</td>\n",
       "      <td>3017</td>\n",
       "      <td>5379</td>\n",
       "      <td>5431</td>\n",
       "      <td>5382</td>\n",
       "      <td>5379</td>\n",
       "      <td>5431</td>\n",
       "      <td>5382</td>\n",
       "      <td>2005-07-23 22:00:00</td>\n",
       "      <td>0.0</td>\n",
       "      <td>2005-07-24 00:00:00</td>\n",
       "      <td>0.0</td>\n",
       "      <td>FEW070 SCT110 BKN150</td>\n",
       "      <td>71.0</td>\n",
       "      <td>54.0</td>\n",
       "      <td>55.0</td>\n",
       "      <td>10.0</td>\n",
       "      <td>300</td>\n",
       "      <td>0.0</td>\n",
       "      <td>24.73</td>\n",
       "      <td>10.0</td>\n",
       "      <td>SCT130 BKN180</td>\n",
       "      <td>67.0</td>\n",
       "      <td>54.0</td>\n",
       "      <td>63.0</td>\n",
       "      <td>3.0</td>\n",
       "      <td>150</td>\n",
       "      <td>0.0</td>\n",
       "      <td>24.73</td>\n",
       "      <td>10.0</td>\n",
       "      <td>2005-07-23 23:00:00</td>\n",
       "    </tr>\n",
       "    <tr>\n",
       "      <th>3</th>\n",
       "      <td>3</td>\n",
       "      <td>DEN_SAT_78504</td>\n",
       "      <td>2005-09-04 19:30:00</td>\n",
       "      <td>7</td>\n",
       "      <td>2005-09-04 21:29:00</td>\n",
       "      <td>119</td>\n",
       "      <td>DEN</td>\n",
       "      <td>SAT</td>\n",
       "      <td>794</td>\n",
       "      <td>3017</td>\n",
       "      <td>3017</td>\n",
       "      <td>5379</td>\n",
       "      <td>5431</td>\n",
       "      <td>5382</td>\n",
       "      <td>5379</td>\n",
       "      <td>5431</td>\n",
       "      <td>5382</td>\n",
       "      <td>2005-09-04 19:00:00</td>\n",
       "      <td>0.0</td>\n",
       "      <td>2005-09-04 21:00:00</td>\n",
       "      <td>0.0</td>\n",
       "      <td>FEW080 BKN140</td>\n",
       "      <td>75.0</td>\n",
       "      <td>43.0</td>\n",
       "      <td>32.0</td>\n",
       "      <td>8.0</td>\n",
       "      <td>360</td>\n",
       "      <td>0.0</td>\n",
       "      <td>24.71</td>\n",
       "      <td>10.0</td>\n",
       "      <td>FEW080 BKN120</td>\n",
       "      <td>75.0</td>\n",
       "      <td>43.0</td>\n",
       "      <td>32.0</td>\n",
       "      <td>7.0</td>\n",
       "      <td>280</td>\n",
       "      <td>0.0</td>\n",
       "      <td>24.73</td>\n",
       "      <td>10.0</td>\n",
       "      <td>2005-09-04 20:00:00</td>\n",
       "    </tr>\n",
       "    <tr>\n",
       "      <th>4</th>\n",
       "      <td>4</td>\n",
       "      <td>DEN_PHL_82820</td>\n",
       "      <td>2005-03-23 21:05:00</td>\n",
       "      <td>3</td>\n",
       "      <td>2005-03-24 00:25:00</td>\n",
       "      <td>200</td>\n",
       "      <td>DEN</td>\n",
       "      <td>PHL</td>\n",
       "      <td>1557</td>\n",
       "      <td>3017</td>\n",
       "      <td>3017</td>\n",
       "      <td>5379</td>\n",
       "      <td>5431</td>\n",
       "      <td>5382</td>\n",
       "      <td>5379</td>\n",
       "      <td>5431</td>\n",
       "      <td>5382</td>\n",
       "      <td>2005-03-23 21:00:00</td>\n",
       "      <td>0.0</td>\n",
       "      <td>2005-03-24 00:00:00</td>\n",
       "      <td>0.0</td>\n",
       "      <td>BKN009 OVC100</td>\n",
       "      <td>36.0</td>\n",
       "      <td>34.0</td>\n",
       "      <td>93.0</td>\n",
       "      <td>4.0</td>\n",
       "      <td>200</td>\n",
       "      <td>0.0</td>\n",
       "      <td>24.30</td>\n",
       "      <td>7.0</td>\n",
       "      <td>BKN085</td>\n",
       "      <td>33.0</td>\n",
       "      <td>31.0</td>\n",
       "      <td>92.0</td>\n",
       "      <td>0.0</td>\n",
       "      <td>0</td>\n",
       "      <td>0.0</td>\n",
       "      <td>24.31</td>\n",
       "      <td>4.0</td>\n",
       "      <td>2005-03-23 21:00:00</td>\n",
       "    </tr>\n",
       "  </tbody>\n",
       "</table>\n",
       "</div>"
      ],
      "text/plain": [
       "   Unnamed: 0   FlightNumber          UTC_Deptime  DayOfWeek  \\\n",
       "0           0  DEN_XNA_62349  2005-09-12 22:16:00          1   \n",
       "1           1  DEN_SAT_82515  2005-09-06 15:55:00          2   \n",
       "2           2  DEN_ICT_94174  2005-07-23 22:56:00          6   \n",
       "3           3  DEN_SAT_78504  2005-09-04 19:30:00          7   \n",
       "4           4  DEN_PHL_82820  2005-03-23 21:05:00          3   \n",
       "\n",
       "           UTC_Arrtime  ScheduledTravelTime Origin Destination  Distance  \\\n",
       "0  2005-09-12 23:56:00                  100    DEN         XNA       616   \n",
       "1  2005-09-06 17:57:00                  122    DEN         SAT       794   \n",
       "2  2005-07-24 00:17:00                   81    DEN         ICT       419   \n",
       "3  2005-09-04 21:29:00                  119    DEN         SAT       794   \n",
       "4  2005-03-24 00:25:00                  200    DEN         PHL      1557   \n",
       "\n",
       "   Origin_ws_id  Destination_ws_id  Origin_GroH  Origin_StaH  Origin_BaroH  \\\n",
       "0          3017               3017         5379         5431          5382   \n",
       "1          3017               3017         5379         5431          5382   \n",
       "2          3017               3017         5379         5431          5382   \n",
       "3          3017               3017         5379         5431          5382   \n",
       "4          3017               3017         5379         5431          5382   \n",
       "\n",
       "   Des_GroH  Des_StaH  Des_BaroH              Dep_avg  Origin_Hurpre  \\\n",
       "0      5379      5431       5382  2005-09-12 22:00:00            0.0   \n",
       "1      5379      5431       5382  2005-09-06 15:00:00            0.0   \n",
       "2      5379      5431       5382  2005-07-23 22:00:00            0.0   \n",
       "3      5379      5431       5382  2005-09-04 19:00:00            0.0   \n",
       "4      5379      5431       5382  2005-03-23 21:00:00            0.0   \n",
       "\n",
       "               Arr_avg  Des_Hurpre            Ori_SkyCon  Ori_DBT  Ori_DewPT  \\\n",
       "0  2005-09-12 23:00:00         0.0         FEW100 SCT140     55.0       34.0   \n",
       "1  2005-09-06 17:00:00         0.0  FEW070 SCT120 SCT150     77.0       48.0   \n",
       "2  2005-07-24 00:00:00         0.0  FEW070 SCT110 BKN150     71.0       54.0   \n",
       "3  2005-09-04 21:00:00         0.0         FEW080 BKN140     75.0       43.0   \n",
       "4  2005-03-24 00:00:00         0.0         BKN009 OVC100     36.0       34.0   \n",
       "\n",
       "   Ori_RelHumiP  Ori_WindSpeed  Ori_WindDir  Ori_WindGu  Ori_StaPre  \\\n",
       "0          45.0            9.0          120         0.0       24.63   \n",
       "1          36.0            4.0            0         0.0       24.84   \n",
       "2          55.0           10.0          300         0.0       24.73   \n",
       "3          32.0            8.0          360         0.0       24.71   \n",
       "4          93.0            4.0          200         0.0       24.30   \n",
       "\n",
       "   Ori_Visib            Des_SkyCon  Des_DBT  Des_DewPT  Des_RelHumP  \\\n",
       "0       10.0                SCT110     54.0       32.0         43.0   \n",
       "1       10.0  FEW070 SCT120 BKN150     73.0       48.0         41.0   \n",
       "2       10.0         SCT130 BKN180     67.0       54.0         63.0   \n",
       "3       10.0         FEW080 BKN120     75.0       43.0         32.0   \n",
       "4        7.0                BKN085     33.0       31.0         92.0   \n",
       "\n",
       "   Des_WindS  Des_WindDir  Des_WindGust  Des_Stapre  Des_Visib  \\\n",
       "0        5.0          120           0.0       24.64       10.0   \n",
       "1       10.0          140           0.0       24.86       10.0   \n",
       "2        3.0          150           0.0       24.73       10.0   \n",
       "3        7.0          280           0.0       24.73       10.0   \n",
       "4        0.0            0           0.0       24.31        4.0   \n",
       "\n",
       "                     y  \n",
       "0  2005-09-12 22:00:00  \n",
       "1  2005-09-06 16:00:00  \n",
       "2  2005-07-23 23:00:00  \n",
       "3  2005-09-04 20:00:00  \n",
       "4  2005-03-23 21:00:00  "
      ]
     },
     "execution_count": 22,
     "metadata": {},
     "output_type": "execute_result"
    }
   ],
   "source": [
    "test.head()"
   ]
  },
  {
   "cell_type": "code",
   "execution_count": 23,
   "id": "bccec017",
   "metadata": {},
   "outputs": [
    {
     "data": {
      "text/plain": [
       "Index(['Unnamed: 0', 'FlightNumber', 'UTC_Deptime', 'DayOfWeek', 'UTC_Arrtime',\n",
       "       'ScheduledTravelTime', 'Origin', 'Destination', 'Distance',\n",
       "       'Origin_ws_id', 'Destination_ws_id', 'Origin_GroH', 'Origin_StaH',\n",
       "       'Origin_BaroH', 'Des_GroH', 'Des_StaH', 'Des_BaroH', 'Dep_avg',\n",
       "       'Origin_Hurpre', 'Arr_avg', 'Des_Hurpre', 'Ori_SkyCon', 'Ori_DBT',\n",
       "       'Ori_DewPT', 'Ori_RelHumiP', 'Ori_WindSpeed', 'Ori_WindDir',\n",
       "       'Ori_WindGu', 'Ori_StaPre', 'Ori_Visib', 'Des_SkyCon', 'Des_DBT',\n",
       "       'Des_DewPT', 'Des_RelHumP', 'Des_WindS', 'Des_WindDir', 'Des_WindGust',\n",
       "       'Des_Stapre', 'Des_Visib', 'y'],\n",
       "      dtype='object')"
      ]
     },
     "execution_count": 23,
     "metadata": {},
     "output_type": "execute_result"
    }
   ],
   "source": [
    "test.columns"
   ]
  },
  {
   "cell_type": "code",
   "execution_count": 24,
   "id": "e1ee3983",
   "metadata": {},
   "outputs": [],
   "source": [
    "test=test.drop(['Unnamed: 0','y','UTC_Deptime','UTC_Arrtime','Arr_avg','Dep_avg','Ori_SkyCon','Des_SkyCon'],axis=1)"
   ]
  },
  {
   "cell_type": "code",
   "execution_count": 25,
   "id": "038cc312",
   "metadata": {},
   "outputs": [
    {
     "data": {
      "text/plain": [
       "Index(['FlightNumber', 'DayOfWeek', 'ScheduledTravelTime', 'Origin',\n",
       "       'Destination', 'Distance', 'Origin_ws_id', 'Destination_ws_id',\n",
       "       'Origin_GroH', 'Origin_StaH', 'Origin_BaroH', 'Des_GroH', 'Des_StaH',\n",
       "       'Des_BaroH', 'Origin_Hurpre', 'Des_Hurpre', 'Ori_DBT', 'Ori_DewPT',\n",
       "       'Ori_RelHumiP', 'Ori_WindSpeed', 'Ori_WindDir', 'Ori_WindGu',\n",
       "       'Ori_StaPre', 'Ori_Visib', 'Des_DBT', 'Des_DewPT', 'Des_RelHumP',\n",
       "       'Des_WindS', 'Des_WindDir', 'Des_WindGust', 'Des_Stapre', 'Des_Visib'],\n",
       "      dtype='object')"
      ]
     },
     "execution_count": 25,
     "metadata": {},
     "output_type": "execute_result"
    }
   ],
   "source": [
    "test.columns"
   ]
  },
  {
   "cell_type": "code",
   "execution_count": 26,
   "id": "e23f4792",
   "metadata": {},
   "outputs": [
    {
     "name": "stdout",
     "output_type": "stream",
     "text": [
      "<class 'pandas.core.frame.DataFrame'>\n",
      "RangeIndex: 6566 entries, 0 to 6565\n",
      "Data columns (total 32 columns):\n",
      " #   Column               Non-Null Count  Dtype  \n",
      "---  ------               --------------  -----  \n",
      " 0   FlightNumber         6566 non-null   object \n",
      " 1   DayOfWeek            6566 non-null   int64  \n",
      " 2   ScheduledTravelTime  6566 non-null   int64  \n",
      " 3   Origin               6566 non-null   object \n",
      " 4   Destination          6566 non-null   object \n",
      " 5   Distance             6566 non-null   int64  \n",
      " 6   Origin_ws_id         6566 non-null   int64  \n",
      " 7   Destination_ws_id    6566 non-null   int64  \n",
      " 8   Origin_GroH          6566 non-null   int64  \n",
      " 9   Origin_StaH          6566 non-null   int64  \n",
      " 10  Origin_BaroH         6566 non-null   int64  \n",
      " 11  Des_GroH             6566 non-null   int64  \n",
      " 12  Des_StaH             6566 non-null   int64  \n",
      " 13  Des_BaroH            6566 non-null   int64  \n",
      " 14  Origin_Hurpre        6566 non-null   float64\n",
      " 15  Des_Hurpre           6566 non-null   float64\n",
      " 16  Ori_DBT              6566 non-null   float64\n",
      " 17  Ori_DewPT            6566 non-null   float64\n",
      " 18  Ori_RelHumiP         6566 non-null   float64\n",
      " 19  Ori_WindSpeed        6566 non-null   float64\n",
      " 20  Ori_WindDir          6566 non-null   int64  \n",
      " 21  Ori_WindGu           6566 non-null   float64\n",
      " 22  Ori_StaPre           6566 non-null   float64\n",
      " 23  Ori_Visib            6566 non-null   float64\n",
      " 24  Des_DBT              6566 non-null   float64\n",
      " 25  Des_DewPT            6566 non-null   float64\n",
      " 26  Des_RelHumP          6566 non-null   float64\n",
      " 27  Des_WindS            6566 non-null   float64\n",
      " 28  Des_WindDir          6566 non-null   int64  \n",
      " 29  Des_WindGust         6566 non-null   float64\n",
      " 30  Des_Stapre           6566 non-null   float64\n",
      " 31  Des_Visib            6566 non-null   float64\n",
      "dtypes: float64(16), int64(13), object(3)\n",
      "memory usage: 1.6+ MB\n"
     ]
    }
   ],
   "source": [
    "test.info()"
   ]
  },
  {
   "cell_type": "code",
   "execution_count": 27,
   "id": "89797ca4",
   "metadata": {},
   "outputs": [],
   "source": [
    "# type conversion to category\n",
    "test['FlightNumber'] = test['FlightNumber'].astype('category')\n",
    "test['Origin'] = test['Origin'].astype('category')\n",
    "test['Destination'] = test['Destination'].astype('category')"
   ]
  },
  {
   "cell_type": "code",
   "execution_count": 28,
   "id": "e0f3029f",
   "metadata": {},
   "outputs": [],
   "source": [
    "test['Des_Stapre'] = test['Des_Stapre'].astype('int64')\n",
    "test['Des_WindGust'] = test['Des_WindGust'].astype('int64')\n",
    "test['Des_RelHumP'] = test['Des_RelHumP'].astype('int64')\n",
    "test['Des_DewPT'] = test['Des_DewPT'].astype('int64')\n",
    "test['Des_DBT'] = test['Des_DBT'].astype('int64')\n",
    "test['Ori_StaPre'] = test['Ori_StaPre'].astype('int64')\n",
    "test['Ori_WindGu'] = test['Ori_WindGu'].astype('int64')\n",
    "test['Ori_RelHumiP'] = test['Ori_RelHumiP'].astype('int64')\n",
    "test['Ori_DewPT'] = test['Ori_DewPT'].astype('int64')\n",
    "test['Ori_DBT'] = test['Ori_DBT'].astype('int64')\n",
    "test['Des_Hurpre'] = test['Des_Hurpre'].astype('int64')\n",
    "test['Origin_Hurpre'] = test['Origin_Hurpre'].astype('int64')\n",
    "test['Ori_Visib'] = test['Ori_Visib'].astype('int64')\n",
    "test['Des_WindS'] = test['Des_WindS'].astype('int64')\n",
    "test['Des_Visib'] = test['Des_Visib'].astype('int64')\n",
    "test['Ori_WindSpeed'] = test['Ori_WindSpeed'].astype('int64')\n"
   ]
  },
  {
   "cell_type": "code",
   "execution_count": 29,
   "id": "dab09cb3",
   "metadata": {},
   "outputs": [
    {
     "name": "stdout",
     "output_type": "stream",
     "text": [
      "<class 'pandas.core.frame.DataFrame'>\n",
      "RangeIndex: 6566 entries, 0 to 6565\n",
      "Data columns (total 32 columns):\n",
      " #   Column               Non-Null Count  Dtype   \n",
      "---  ------               --------------  -----   \n",
      " 0   FlightNumber         6566 non-null   category\n",
      " 1   DayOfWeek            6566 non-null   int64   \n",
      " 2   ScheduledTravelTime  6566 non-null   int64   \n",
      " 3   Origin               6566 non-null   category\n",
      " 4   Destination          6566 non-null   category\n",
      " 5   Distance             6566 non-null   int64   \n",
      " 6   Origin_ws_id         6566 non-null   int64   \n",
      " 7   Destination_ws_id    6566 non-null   int64   \n",
      " 8   Origin_GroH          6566 non-null   int64   \n",
      " 9   Origin_StaH          6566 non-null   int64   \n",
      " 10  Origin_BaroH         6566 non-null   int64   \n",
      " 11  Des_GroH             6566 non-null   int64   \n",
      " 12  Des_StaH             6566 non-null   int64   \n",
      " 13  Des_BaroH            6566 non-null   int64   \n",
      " 14  Origin_Hurpre        6566 non-null   int64   \n",
      " 15  Des_Hurpre           6566 non-null   int64   \n",
      " 16  Ori_DBT              6566 non-null   int64   \n",
      " 17  Ori_DewPT            6566 non-null   int64   \n",
      " 18  Ori_RelHumiP         6566 non-null   int64   \n",
      " 19  Ori_WindSpeed        6566 non-null   int64   \n",
      " 20  Ori_WindDir          6566 non-null   int64   \n",
      " 21  Ori_WindGu           6566 non-null   int64   \n",
      " 22  Ori_StaPre           6566 non-null   int64   \n",
      " 23  Ori_Visib            6566 non-null   int64   \n",
      " 24  Des_DBT              6566 non-null   int64   \n",
      " 25  Des_DewPT            6566 non-null   int64   \n",
      " 26  Des_RelHumP          6566 non-null   int64   \n",
      " 27  Des_WindS            6566 non-null   int64   \n",
      " 28  Des_WindDir          6566 non-null   int64   \n",
      " 29  Des_WindGust         6566 non-null   int64   \n",
      " 30  Des_Stapre           6566 non-null   int64   \n",
      " 31  Des_Visib            6566 non-null   int64   \n",
      "dtypes: category(3), int64(29)\n",
      "memory usage: 1.8 MB\n"
     ]
    }
   ],
   "source": [
    "test.info()"
   ]
  },
  {
   "cell_type": "code",
   "execution_count": 30,
   "id": "1b9e1739",
   "metadata": {},
   "outputs": [],
   "source": [
    "from sklearn.preprocessing import LabelEncoder\n",
    "le = LabelEncoder()\n",
    "test['FlightNumber']= le.fit_transform(test['FlightNumber'])"
   ]
  },
  {
   "cell_type": "code",
   "execution_count": 31,
   "id": "bbc6e96b",
   "metadata": {},
   "outputs": [],
   "source": [
    "from sklearn.preprocessing import LabelEncoder\n",
    "le = LabelEncoder()\n",
    "test['Origin']= le.fit_transform(test['Origin'])"
   ]
  },
  {
   "cell_type": "code",
   "execution_count": 32,
   "id": "06c2994c",
   "metadata": {},
   "outputs": [],
   "source": [
    "from sklearn.preprocessing import LabelEncoder\n",
    "le = LabelEncoder()\n",
    "test['Destination']= le.fit_transform(test['Destination'])"
   ]
  },
  {
   "cell_type": "code",
   "execution_count": 33,
   "id": "fccd0099",
   "metadata": {},
   "outputs": [
    {
     "data": {
      "text/plain": [
       "(6566, 32)"
      ]
     },
     "execution_count": 33,
     "metadata": {},
     "output_type": "execute_result"
    }
   ],
   "source": [
    "test.shape"
   ]
  },
  {
   "cell_type": "code",
   "execution_count": 34,
   "id": "6166db94",
   "metadata": {},
   "outputs": [],
   "source": [
    "flightno=test['FlightNumber']\n",
    "test.drop(['FlightNumber'],axis=1,inplace=True)"
   ]
  },
  {
   "cell_type": "code",
   "execution_count": 35,
   "id": "20f6e019",
   "metadata": {},
   "outputs": [],
   "source": [
    "from sklearn.preprocessing import MinMaxScaler\n",
    "min_max=MinMaxScaler()\n",
    "test_scaled=pd.DataFrame(min_max.fit_transform(test))"
   ]
  },
  {
   "cell_type": "code",
   "execution_count": 36,
   "id": "9e44a1fb",
   "metadata": {},
   "outputs": [
    {
     "data": {
      "text/plain": [
       "(6566, 31)"
      ]
     },
     "execution_count": 36,
     "metadata": {},
     "output_type": "execute_result"
    }
   ],
   "source": [
    "test_scaled.shape"
   ]
  },
  {
   "cell_type": "code",
   "execution_count": 37,
   "id": "eb4321b4",
   "metadata": {},
   "outputs": [
    {
     "name": "stdout",
     "output_type": "stream",
     "text": [
      "(7861, 32)\n",
      "(6566, 31)\n"
     ]
    }
   ],
   "source": [
    "print(train.shape)\n",
    "print(test.shape)"
   ]
  },
  {
   "cell_type": "markdown",
   "id": "7feb6b59",
   "metadata": {},
   "source": [
    "# Feature selection Test"
   ]
  },
  {
   "cell_type": "code",
   "execution_count": 38,
   "id": "d4bd7c5e",
   "metadata": {},
   "outputs": [],
   "source": [
    "test_noncorr=test.drop(corr_features,axis=1) "
   ]
  },
  {
   "cell_type": "code",
   "execution_count": 39,
   "id": "138044c8",
   "metadata": {},
   "outputs": [],
   "source": [
    "from sklearn.preprocessing import MinMaxScaler\n",
    "min_max=MinMaxScaler()\n",
    "test=pd.DataFrame(min_max.fit_transform(test_noncorr))"
   ]
  },
  {
   "cell_type": "code",
   "execution_count": 40,
   "id": "09442a88",
   "metadata": {},
   "outputs": [
    {
     "name": "stdout",
     "output_type": "stream",
     "text": [
      "(7861, 23)\n",
      "(6566, 23)\n"
     ]
    }
   ],
   "source": [
    "print(x_train.shape)\n",
    "print(test.shape)"
   ]
  },
  {
   "cell_type": "markdown",
   "id": "3642cb1c",
   "metadata": {},
   "source": [
    "# Modle Building"
   ]
  },
  {
   "cell_type": "code",
   "execution_count": 41,
   "id": "38f6ce0a",
   "metadata": {},
   "outputs": [
    {
     "data": {
      "text/plain": [
       "LogisticRegression()"
      ]
     },
     "execution_count": 41,
     "metadata": {},
     "output_type": "execute_result"
    }
   ],
   "source": [
    "from sklearn.linear_model import LogisticRegression\n",
    "logis=LogisticRegression()\n",
    "logis.fit(x_train,y_train)"
   ]
  },
  {
   "cell_type": "code",
   "execution_count": 42,
   "id": "d0c00318",
   "metadata": {},
   "outputs": [],
   "source": [
    "from sklearn.model_selection import cross_val_score,KFold\n",
    "kf=KFold(n_splits=5)"
   ]
  },
  {
   "cell_type": "code",
   "execution_count": 43,
   "id": "718ba9b4",
   "metadata": {},
   "outputs": [
    {
     "name": "stdout",
     "output_type": "stream",
     "text": [
      "{'n_estimators': [100], 'min_samples_split': [2, 4, 6], 'criterion': ['gini']}\n"
     ]
    }
   ],
   "source": [
    "# Defining parameter for hyperParameter Tuning\n",
    "\n",
    "from sklearn.model_selection import GridSearchCV  # importing GridSearchCV for Tuning\n",
    "\n",
    "n_estimators=[100]\n",
    "\n",
    "min_samples_split=[2,4,6]\n",
    "\n",
    "min_samples_leaf=[1,2,4,6]\n",
    "\n",
    "param_grid={'n_estimators': n_estimators,\n",
    "            'min_samples_split':min_samples_split,\n",
    "             'min_samples_split': min_samples_split,\n",
    "             'criterion':['gini']}\n",
    "print(param_grid)"
   ]
  },
  {
   "cell_type": "code",
   "execution_count": 44,
   "id": "0988fd88",
   "metadata": {},
   "outputs": [
    {
     "name": "stdout",
     "output_type": "stream",
     "text": [
      "Fitting 5 folds for each of 3 candidates, totalling 15 fits\n",
      "[CV] END criterion=gini, min_samples_split=2, n_estimators=100; total time=   1.0s\n",
      "[CV] END criterion=gini, min_samples_split=2, n_estimators=100; total time=   1.0s\n",
      "[CV] END criterion=gini, min_samples_split=2, n_estimators=100; total time=   1.0s\n",
      "[CV] END criterion=gini, min_samples_split=2, n_estimators=100; total time=   1.1s\n",
      "[CV] END criterion=gini, min_samples_split=2, n_estimators=100; total time=   0.9s\n",
      "[CV] END criterion=gini, min_samples_split=4, n_estimators=100; total time=   0.9s\n",
      "[CV] END criterion=gini, min_samples_split=4, n_estimators=100; total time=   0.9s\n",
      "[CV] END criterion=gini, min_samples_split=4, n_estimators=100; total time=   0.9s\n",
      "[CV] END criterion=gini, min_samples_split=4, n_estimators=100; total time=   0.9s\n",
      "[CV] END criterion=gini, min_samples_split=4, n_estimators=100; total time=   0.9s\n",
      "[CV] END criterion=gini, min_samples_split=6, n_estimators=100; total time=   0.9s\n",
      "[CV] END criterion=gini, min_samples_split=6, n_estimators=100; total time=   1.1s\n",
      "[CV] END criterion=gini, min_samples_split=6, n_estimators=100; total time=   1.1s\n",
      "[CV] END criterion=gini, min_samples_split=6, n_estimators=100; total time=   0.9s\n",
      "[CV] END criterion=gini, min_samples_split=6, n_estimators=100; total time=   0.9s\n"
     ]
    },
    {
     "data": {
      "text/plain": [
       "GridSearchCV(cv=KFold(n_splits=5, random_state=None, shuffle=False),\n",
       "             estimator=RandomForestClassifier(),\n",
       "             param_grid={'criterion': ['gini'], 'min_samples_split': [2, 4, 6],\n",
       "                         'n_estimators': [100]},\n",
       "             verbose=2)"
      ]
     },
     "execution_count": 44,
     "metadata": {},
     "output_type": "execute_result"
    }
   ],
   "source": [
    "#importing Random Forest Classifier\n",
    "\n",
    "from sklearn.ensemble import RandomForestClassifier\n",
    "rf=RandomForestClassifier()\n",
    "rf_gridcv=GridSearchCV(estimator=rf,param_grid=param_grid,cv=kf,verbose=2)  \n",
    "\n",
    "rf_gridcv.fit(x_train,y_train)"
   ]
  },
  {
   "cell_type": "code",
   "execution_count": 45,
   "id": "344ed0ac",
   "metadata": {},
   "outputs": [
    {
     "data": {
      "text/plain": [
       "{'criterion': 'gini', 'min_samples_split': 2, 'n_estimators': 100}"
      ]
     },
     "execution_count": 45,
     "metadata": {},
     "output_type": "execute_result"
    }
   ],
   "source": [
    "rf_gridcv.best_params_   # finding best Parameters"
   ]
  },
  {
   "cell_type": "code",
   "execution_count": 46,
   "id": "320a5104",
   "metadata": {},
   "outputs": [
    {
     "data": {
      "text/plain": [
       "RandomForestClassifier()"
      ]
     },
     "execution_count": 46,
     "metadata": {},
     "output_type": "execute_result"
    }
   ],
   "source": [
    "rf_gridcv.best_estimator_"
   ]
  },
  {
   "cell_type": "code",
   "execution_count": 47,
   "id": "139b6917",
   "metadata": {},
   "outputs": [],
   "source": [
    "best_grid=rf_gridcv.best_estimator_"
   ]
  },
  {
   "cell_type": "code",
   "execution_count": 48,
   "id": "dd7004f7",
   "metadata": {},
   "outputs": [],
   "source": [
    "# Predicting the values on Test data\n",
    "\n",
    "y_pred=best_grid.predict(test)"
   ]
  },
  {
   "cell_type": "code",
   "execution_count": 49,
   "id": "fba72fc3",
   "metadata": {},
   "outputs": [],
   "source": [
    "result=pd.DataFrame({'FlightNumber':flightno,'Flight_Delay_Status':y_pred})"
   ]
  },
  {
   "cell_type": "code",
   "execution_count": 50,
   "id": "472f8bc8",
   "metadata": {},
   "outputs": [],
   "source": [
    "result.to_csv('Final_prediction.csv')"
   ]
  },
  {
   "cell_type": "code",
   "execution_count": 60,
   "id": "b6f98ab9",
   "metadata": {},
   "outputs": [],
   "source": [
    "from sklearn.metrics import accuracy_score,classification_report"
   ]
  },
  {
   "cell_type": "code",
   "execution_count": 61,
   "id": "0c4f45f0",
   "metadata": {},
   "outputs": [
    {
     "name": "stdout",
     "output_type": "stream",
     "text": [
      "              precision    recall  f1-score   support\n",
      "\n",
      "           1       0.33      0.67      0.44       209\n",
      "           2       0.95      0.84      0.89      1757\n",
      "\n",
      "    accuracy                           0.82      1966\n",
      "   macro avg       0.64      0.75      0.67      1966\n",
      "weighted avg       0.89      0.82      0.85      1966\n",
      "\n"
     ]
    }
   ],
   "source": [
    "print(classification_report(y_pred,y_test))"
   ]
  },
  {
   "cell_type": "code",
   "execution_count": 62,
   "id": "47d08d26",
   "metadata": {},
   "outputs": [
    {
     "data": {
      "image/png": "[encoded data removed]",
      "text/plain": [
       "<Figure size 640x480 with 2 Axes>"
      ]
     },
     "metadata": {},
     "output_type": "display_data"
    }
   ],
   "source": [
    "import matplotlib.pyplot as plt\n",
    "import numpy\n",
    "from sklearn import metrics\n",
    "\n",
    "actual = numpy.random.binomial(1,.9,size = 1000)\n",
    "predicted = numpy.random.binomial(1,.9,size = 1000)\n",
    "\n",
    "confusion_matrix = metrics.confusion_matrix(actual, predicted)\n",
    "\n",
    "cm_display = metrics.ConfusionMatrixDisplay(confusion_matrix = confusion_matrix, display_labels = [True,False])\n",
    "                                                                                                  \n",
    "\n",
    "cm_display.plot()\n",
    "plt.show()"
   ]
  },
  {
   "cell_type": "markdown",
   "id": "bf3db0a4",
   "metadata": {},
   "source": [
    "# Imputed to Find Best model "
   ]
  },
  {
   "cell_type": "code",
   "execution_count": 51,
   "id": "2b6f09e2",
   "metadata": {},
   "outputs": [],
   "source": [
    "from sklearn.model_selection import train_test_split\n",
    "x_train,x_test,y_train,y_test=train_test_split(x_train,y_train,test_size=0.25,random_state=42)"
   ]
  },
  {
   "cell_type": "code",
   "execution_count": 52,
   "id": "8031b585",
   "metadata": {},
   "outputs": [],
   "source": [
    "from sklearn.linear_model import LogisticRegression\n",
    "from sklearn.neighbors import KNeighborsClassifier\n",
    "from sklearn.ensemble import RandomForestClassifier\n",
    "from sklearn.metrics import accuracy_score"
   ]
  },
  {
   "cell_type": "code",
   "execution_count": 53,
   "id": "4cbe0b57",
   "metadata": {},
   "outputs": [
    {
     "name": "stdout",
     "output_type": "stream",
     "text": [
      "Accuracy: 79.755849% KNN\n",
      "Accuracy: 80.213632% LogisticRegression\n",
      "Accuracy: 82.146490% Rf\n"
     ]
    }
   ],
   "source": [
    "models=[]\n",
    "models.append(('KNN',KNeighborsClassifier()))\n",
    "models.append(('LogisticRegression',LogisticRegression()))\n",
    "models.append(('Rf',RandomForestClassifier()))\n",
    "\n",
    "results=[]\n",
    "names=[]\n",
    "\n",
    "\n",
    "for name,model in models:\n",
    "  model.fit(x_train,y_train)\n",
    "\n",
    "  y_pred=model.predict(x_test)\n",
    "  predictions=[round(value) for value in y_pred]\n",
    "\n",
    "  accuracy=accuracy_score(y_test,predictions)\n",
    "  print('Accuracy: %2f%%' %(accuracy*100),name)\n",
    " \n",
    "  "
   ]
  },
  {
   "cell_type": "code",
   "execution_count": null,
   "id": "c8eafdbd",
   "metadata": {},
   "outputs": [],
   "source": []
  }
 ],
 "metadata": {
  "kernelspec": {
   "display_name": "Python 3 (ipykernel)",
   "language": "python",
   "name": "python3"
  },
  "language_info": {
   "codemirror_mode": {
    "name": "ipython",
    "version": 3
   },
   "file_extension": ".py",
   "mimetype": "text/x-python",
   "name": "python",
   "nbconvert_exporter": "python",
   "pygments_lexer": "ipython3",
   "version": "3.9.13"
  }
 },
 "nbformat": 4,
 "nbformat_minor": 5
}
